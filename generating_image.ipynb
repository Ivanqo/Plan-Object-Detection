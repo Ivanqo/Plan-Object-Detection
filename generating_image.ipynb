{
 "cells": [
  {
   "cell_type": "code",
   "execution_count": 6,
   "metadata": {},
   "outputs": [
    {
     "data": {
      "image/png": "[encoded data removed]",
      "text/plain": [
       "<Figure size 1000x600 with 1 Axes>"
      ]
     },
     "metadata": {},
     "output_type": "display_data"
    }
   ],
   "source": [
    "import numpy as np\n",
    "import matplotlib.pyplot as plt\n",
    "import cv2\n",
    "import xml.etree.ElementTree as ET\n",
    "\n",
    "#сгенерирем одну картинку\n",
    "#фон\n",
    "screen = np.full((128,128,3), 255, dtype = np.float32)\n",
    "x = 10\n",
    "y = 110\n",
    "r = 10\n",
    "t = 2\n",
    "screen = cv2.circle(screen, (x,y), r, (0, 0 , 0), t)\n",
    "screen = cv2.line(screen, (x,y-r), (x,y-r*6), (0, 0 , 0), t)\n",
    "#найдем координаты рамки для этого кружка\n",
    "xmin = int(x-(r+ t/2))\n",
    "xmax = int(x+(r+ t/2))\n",
    "ymin = int(y-(r*3.5+ t/2))\n",
    "ymax = int(y+(r+ t/2))\n",
    "\n",
    "#нарисуем рамку\n",
    "screen = cv2.rectangle(screen ,(xmin, ymin ),(xmax, ymax),(0,255,0),1)\n",
    "\n",
    "#готовим к выводу \n",
    "screen/=255\n",
    "#стандартный вывод картинки matplotlib\n",
    "plt.figure(figsize=(10, 6))\n",
    "ax = plt.subplot(3, 1, 1)\n",
    "plt.imshow(screen)\n",
    "plt.show()    "
   ]
  },
  {
   "cell_type": "code",
   "execution_count": 7,
   "metadata": {},
   "outputs": [
    {
     "data": {
      "image/png": "[encoded data removed]",
      "text/plain": [
       "<Figure size 1000x600 with 1 Axes>"
      ]
     },
     "metadata": {},
     "output_type": "display_data"
    }
   ],
   "source": [
    "#это алгоритмический генератор картинок + запись параметров элементов\n",
    "#в xml файл по стандарту labelimg\n",
    "\n",
    "import random\n",
    "\n",
    "#папка, в которую сохраняем картинки и xml-ки\n",
    "folder = 'D:/Proga/object detection part two/image_dataset/'\n",
    "\n",
    "#сколько хотим картинок\n",
    "for count in range(1000):\n",
    "    #кол-во кружков на картинку\n",
    "    n = 1\n",
    "    name = 'test_' + str(count)\n",
    "    screen = np.full((128,128,3), random.randint(230,255), dtype = np.float32)\n",
    "    \n",
    "    #p-главный корневой элемент будущего xml\n",
    "    #присоединяем к нему разные элементы по стандарту labelimg, чтобы все было совместимо\n",
    "    #многие элементы не несут смысла\n",
    "    p=ET.Element('annotation')\n",
    "    c = ET.SubElement(p, 'folder')\n",
    "    c.text = 'images'\n",
    "    c = ET.SubElement(p, 'filename')\n",
    "    c.text = name\n",
    "    c = ET.SubElement(p, 'path')\n",
    "    c.text = folder + name + '.png'\n",
    "    c = ET.SubElement(p, 'sourse')\n",
    "    c.text = 'hm'\n",
    "    c = ET.SubElement(p, 'size')\n",
    "    s = ET.SubElement(c, 'width')\n",
    "    s.text = '128'\n",
    "    s = ET.SubElement(c, 'height')\n",
    "    s.text = '128'\n",
    "    s = ET.SubElement(c, 'depth')\n",
    "    s.text = '3'\n",
    "    c = ET.SubElement(p, 'segmented')\n",
    "    c.text = '0'\n",
    "\n",
    "    for nn in range(n):\n",
    "        x = random.randint(10,110)\n",
    "        y = random.randint(10,110)\n",
    "        r = random.randint(8, 15)\n",
    "        t = random.randint(1, 3)\n",
    "        #рисуем кружок\n",
    "        screen = cv2.circle(screen, (x,y), r, (0, 0 , 0), t)\n",
    "        screen = cv2.line(screen, (x,y-r), (x,y-r*6), (0, 0 , 0), t)\n",
    "        #и описываем его в xml\n",
    "        o = ET.SubElement(p, 'object')\n",
    "        n = ET.SubElement(o, 'name')\n",
    "        n.text = 'OSI'\n",
    "        c = ET.SubElement(o, 'pose')\n",
    "        c.text = 'un'\n",
    "        c = ET.SubElement(o, 'truncated')\n",
    "        c.text = '0'\n",
    "        c = ET.SubElement(o, 'difficult')\n",
    "        c.text = '0'\n",
    "        bb = ET.SubElement(o, 'bndbox')\n",
    "        \n",
    "        #вычисляем и записываем кординаты\n",
    "\n",
    "        xmin = int(x-(r+ t/2))\n",
    "        xmax = int(x+(r+ t/2))\n",
    "        ymin = int(y-(r*3.5+ t/2))\n",
    "        ymax = int(y+(r+ t/2))\n",
    "\n",
    "        xmin_ = ET.SubElement(bb, 'xmin')\n",
    "        xmin_.text = str(xmin)\n",
    "        ymin_ = ET.SubElement(bb, 'ymin')\n",
    "        ymin_.text = str(ymin)\n",
    "        xmax_ = ET.SubElement(bb, 'xmax')\n",
    "        xmax_.text = str(xmax)\n",
    "        ymax_ = ET.SubElement(bb, 'ymax')\n",
    "        ymax_.text = str(ymax)\n",
    "\n",
    "    #сохраняем p\n",
    "    tree = ET.ElementTree(p)\n",
    "    #эта строчка чтобы запись была с отступами, а не одной строкой и читалась нормально\n",
    "    #не влияет на програмное чтение xml\n",
    "    ET.indent(tree, '  ')\n",
    "    #сохраняем xml\n",
    "    tree.write(folder + name +'.xml', encoding=\"utf-8\") \n",
    "    #сохраняем картинку\n",
    "    cv2.imwrite(folder + name + '.png' , screen)\n",
    "screen/=255\n",
    "\n",
    "plt.figure(figsize=(10, 6))\n",
    "ax = plt.subplot(3, 1, 1)\n",
    "plt.imshow(screen)\n",
    "\n",
    "plt.show()        "
   ]
  }
 ],
 "metadata": {
  "kernelspec": {
   "display_name": "Python 3",
   "language": "python",
   "name": "python3"
  },
  "language_info": {
   "codemirror_mode": {
    "name": "ipython",
    "version": 3
   },
   "file_extension": ".py",
   "mimetype": "text/x-python",
   "name": "python",
   "nbconvert_exporter": "python",
   "pygments_lexer": "ipython3",
   "version": "3.12.1"
  }
 },
 "nbformat": 4,
 "nbformat_minor": 2
}
